{
 "cells": [
  {
   "cell_type": "code",
   "execution_count": 6,
   "id": "199aa933",
   "metadata": {},
   "outputs": [
    {
     "name": "stdout",
     "output_type": "stream",
     "text": [
      "Populating the interactive namespace from numpy and matplotlib\n"
     ]
    }
   ],
   "source": [
    "%pylab inline\n",
    "%matplotlib inline\n",
    "import gsw\n",
    "import netCDF4 as nc\n",
    "import xarray as xr \n",
    "import pylab as plt\n",
    "import scipy.io\n",
    "import math\n",
    "import numpy.matlib\n",
    "import xlrd\n",
    "import pandas as pd\n",
    "from scipy import stats \n",
    "import seaborn as sns\n",
    "import cartopy\n",
    "import cartopy.crs as ccrs"
   ]
  },
  {
   "cell_type": "code",
   "execution_count": 15,
   "id": "e28ce083",
   "metadata": {},
   "outputs": [],
   "source": [
    "data_path = '~/Users/atang/Documents/PhD_Internship/Python/Tommy Data/'\n"
   ]
  },
  {
   "cell_type": "code",
   "execution_count": 19,
   "id": "3efc771b",
   "metadata": {},
   "outputs": [],
   "source": [
    "ctd_ts_data = pd.read_csv('/Users/atang/Documents/PhD_Internship/Python/Tommy Data/ctd_ts_data.csv')\n",
    "ctd_fe_data_0 = pd.read_csv('/Users/atang/Documents/PhD_Internship/Python/Tommy Data/ctd_fe_data_0.csv')"
   ]
  },
  {
   "cell_type": "code",
   "execution_count": 17,
   "id": "beaecb01",
   "metadata": {},
   "outputs": [
    {
     "data": {
      "text/plain": [
       "'C:\\\\Users\\\\atang\\\\Documents\\\\PhD_Internship\\\\Python\\\\Tommy Data'"
      ]
     },
     "execution_count": 17,
     "metadata": {},
     "output_type": "execute_result"
    }
   ],
   "source": [
    "pwd"
   ]
  },
  {
   "cell_type": "code",
   "execution_count": 21,
   "id": "92864981",
   "metadata": {},
   "outputs": [],
   "source": [
    "density_ts_data = gsw.density.rho(ctd_ts_data['sal'].values,ctd_ts_data['temp'].values,ctd_ts_data['depth'].values)-1000"
   ]
  },
  {
   "cell_type": "code",
   "execution_count": 25,
   "id": "09d5cd7c",
   "metadata": {},
   "outputs": [
    {
     "data": {
      "text/plain": [
       "array([27.17695626, 27.18447247, 27.18957026, ..., 34.16196033,\n",
       "       34.16328217, 34.16971083])"
      ]
     },
     "execution_count": 25,
     "metadata": {},
     "output_type": "execute_result"
    }
   ],
   "source": [
    "density_ts_data"
   ]
  },
  {
   "cell_type": "code",
   "execution_count": 28,
   "id": "df9e5d51",
   "metadata": {},
   "outputs": [
    {
     "data": {
      "text/html": [
       "<div>\n",
       "<style scoped>\n",
       "    .dataframe tbody tr th:only-of-type {\n",
       "        vertical-align: middle;\n",
       "    }\n",
       "\n",
       "    .dataframe tbody tr th {\n",
       "        vertical-align: top;\n",
       "    }\n",
       "\n",
       "    .dataframe thead th {\n",
       "        text-align: right;\n",
       "    }\n",
       "</style>\n",
       "<table border=\"1\" class=\"dataframe\">\n",
       "  <thead>\n",
       "    <tr style=\"text-align: right;\">\n",
       "      <th></th>\n",
       "      <th>datetime</th>\n",
       "      <th>ctd</th>\n",
       "      <th>Longitude</th>\n",
       "      <th>Latitude</th>\n",
       "      <th>depth</th>\n",
       "      <th>temp</th>\n",
       "      <th>sal</th>\n",
       "      <th>oxy</th>\n",
       "      <th>chl</th>\n",
       "      <th>pressure</th>\n",
       "      <th>Density</th>\n",
       "    </tr>\n",
       "  </thead>\n",
       "  <tbody>\n",
       "    <tr>\n",
       "      <th>0</th>\n",
       "      <td>06/07/2017 03:37</td>\n",
       "      <td>TM01</td>\n",
       "      <td>30.00000</td>\n",
       "      <td>-58.500833</td>\n",
       "      <td>0.999</td>\n",
       "      <td>0.0401</td>\n",
       "      <td>34.0029</td>\n",
       "      <td>7.434</td>\n",
       "      <td>0.19132</td>\n",
       "      <td>1</td>\n",
       "      <td>27.176956</td>\n",
       "    </tr>\n",
       "    <tr>\n",
       "      <th>1</th>\n",
       "      <td>06/07/2017 03:37</td>\n",
       "      <td>TM01</td>\n",
       "      <td>30.00000</td>\n",
       "      <td>-58.500833</td>\n",
       "      <td>1.967</td>\n",
       "      <td>-0.0597</td>\n",
       "      <td>34.0002</td>\n",
       "      <td>7.437</td>\n",
       "      <td>0.18135</td>\n",
       "      <td>2</td>\n",
       "      <td>27.184472</td>\n",
       "    </tr>\n",
       "    <tr>\n",
       "      <th>2</th>\n",
       "      <td>06/07/2017 03:37</td>\n",
       "      <td>TM01</td>\n",
       "      <td>30.00000</td>\n",
       "      <td>-58.500833</td>\n",
       "      <td>2.956</td>\n",
       "      <td>-0.0656</td>\n",
       "      <td>34.0003</td>\n",
       "      <td>7.446</td>\n",
       "      <td>0.17786</td>\n",
       "      <td>3</td>\n",
       "      <td>27.189570</td>\n",
       "    </tr>\n",
       "    <tr>\n",
       "      <th>3</th>\n",
       "      <td>06/07/2017 03:37</td>\n",
       "      <td>TM01</td>\n",
       "      <td>30.00000</td>\n",
       "      <td>-58.500833</td>\n",
       "      <td>3.984</td>\n",
       "      <td>-0.0638</td>\n",
       "      <td>34.0000</td>\n",
       "      <td>7.440</td>\n",
       "      <td>0.17640</td>\n",
       "      <td>4</td>\n",
       "      <td>27.194148</td>\n",
       "    </tr>\n",
       "    <tr>\n",
       "      <th>4</th>\n",
       "      <td>06/07/2017 03:37</td>\n",
       "      <td>TM01</td>\n",
       "      <td>30.00000</td>\n",
       "      <td>-58.500833</td>\n",
       "      <td>4.954</td>\n",
       "      <td>-0.0601</td>\n",
       "      <td>34.0005</td>\n",
       "      <td>7.432</td>\n",
       "      <td>0.20149</td>\n",
       "      <td>5</td>\n",
       "      <td>27.198995</td>\n",
       "    </tr>\n",
       "    <tr>\n",
       "      <th>...</th>\n",
       "      <td>...</td>\n",
       "      <td>...</td>\n",
       "      <td>...</td>\n",
       "      <td>...</td>\n",
       "      <td>...</td>\n",
       "      <td>...</td>\n",
       "      <td>...</td>\n",
       "      <td>...</td>\n",
       "      <td>...</td>\n",
       "      <td>...</td>\n",
       "      <td>...</td>\n",
       "    </tr>\n",
       "    <tr>\n",
       "      <th>20018</th>\n",
       "      <td>10/07/2017 20:20</td>\n",
       "      <td>TM08</td>\n",
       "      <td>29.99967</td>\n",
       "      <td>-41.000167</td>\n",
       "      <td>1483.031</td>\n",
       "      <td>3.4867</td>\n",
       "      <td>34.5407</td>\n",
       "      <td>3.560</td>\n",
       "      <td>0.00495</td>\n",
       "      <td>1500</td>\n",
       "      <td>34.152903</td>\n",
       "    </tr>\n",
       "    <tr>\n",
       "      <th>20019</th>\n",
       "      <td>10/07/2017 20:20</td>\n",
       "      <td>TM08</td>\n",
       "      <td>29.99967</td>\n",
       "      <td>-41.000167</td>\n",
       "      <td>1484.016</td>\n",
       "      <td>3.4845</td>\n",
       "      <td>34.5417</td>\n",
       "      <td>3.560</td>\n",
       "      <td>0.00508</td>\n",
       "      <td>1501</td>\n",
       "      <td>34.158430</td>\n",
       "    </tr>\n",
       "    <tr>\n",
       "      <th>20020</th>\n",
       "      <td>10/07/2017 20:20</td>\n",
       "      <td>TM08</td>\n",
       "      <td>29.99967</td>\n",
       "      <td>-41.000167</td>\n",
       "      <td>1484.997</td>\n",
       "      <td>3.4888</td>\n",
       "      <td>34.5413</td>\n",
       "      <td>3.564</td>\n",
       "      <td>0.00769</td>\n",
       "      <td>1502</td>\n",
       "      <td>34.161960</td>\n",
       "    </tr>\n",
       "    <tr>\n",
       "      <th>20021</th>\n",
       "      <td>10/07/2017 20:20</td>\n",
       "      <td>TM08</td>\n",
       "      <td>29.99967</td>\n",
       "      <td>-41.000167</td>\n",
       "      <td>1485.986</td>\n",
       "      <td>3.5004</td>\n",
       "      <td>34.5393</td>\n",
       "      <td>3.564</td>\n",
       "      <td>0.00737</td>\n",
       "      <td>1503</td>\n",
       "      <td>34.163282</td>\n",
       "    </tr>\n",
       "    <tr>\n",
       "      <th>20022</th>\n",
       "      <td>10/07/2017 20:20</td>\n",
       "      <td>TM08</td>\n",
       "      <td>29.99967</td>\n",
       "      <td>-41.000167</td>\n",
       "      <td>1486.979</td>\n",
       "      <td>3.4930</td>\n",
       "      <td>34.5405</td>\n",
       "      <td>3.561</td>\n",
       "      <td>-0.00006</td>\n",
       "      <td>1504</td>\n",
       "      <td>34.169711</td>\n",
       "    </tr>\n",
       "  </tbody>\n",
       "</table>\n",
       "<p>20023 rows × 11 columns</p>\n",
       "</div>"
      ],
      "text/plain": [
       "               datetime   ctd  Longitude   Latitude     depth    temp  \\\n",
       "0      06/07/2017 03:37  TM01   30.00000 -58.500833     0.999  0.0401   \n",
       "1      06/07/2017 03:37  TM01   30.00000 -58.500833     1.967 -0.0597   \n",
       "2      06/07/2017 03:37  TM01   30.00000 -58.500833     2.956 -0.0656   \n",
       "3      06/07/2017 03:37  TM01   30.00000 -58.500833     3.984 -0.0638   \n",
       "4      06/07/2017 03:37  TM01   30.00000 -58.500833     4.954 -0.0601   \n",
       "...                 ...   ...        ...        ...       ...     ...   \n",
       "20018  10/07/2017 20:20  TM08   29.99967 -41.000167  1483.031  3.4867   \n",
       "20019  10/07/2017 20:20  TM08   29.99967 -41.000167  1484.016  3.4845   \n",
       "20020  10/07/2017 20:20  TM08   29.99967 -41.000167  1484.997  3.4888   \n",
       "20021  10/07/2017 20:20  TM08   29.99967 -41.000167  1485.986  3.5004   \n",
       "20022  10/07/2017 20:20  TM08   29.99967 -41.000167  1486.979  3.4930   \n",
       "\n",
       "           sal    oxy      chl  pressure    Density  \n",
       "0      34.0029  7.434  0.19132         1  27.176956  \n",
       "1      34.0002  7.437  0.18135         2  27.184472  \n",
       "2      34.0003  7.446  0.17786         3  27.189570  \n",
       "3      34.0000  7.440  0.17640         4  27.194148  \n",
       "4      34.0005  7.432  0.20149         5  27.198995  \n",
       "...        ...    ...      ...       ...        ...  \n",
       "20018  34.5407  3.560  0.00495      1500  34.152903  \n",
       "20019  34.5417  3.560  0.00508      1501  34.158430  \n",
       "20020  34.5413  3.564  0.00769      1502  34.161960  \n",
       "20021  34.5393  3.564  0.00737      1503  34.163282  \n",
       "20022  34.5405  3.561 -0.00006      1504  34.169711  \n",
       "\n",
       "[20023 rows x 11 columns]"
      ]
     },
     "execution_count": 28,
     "metadata": {},
     "output_type": "execute_result"
    }
   ],
   "source": [
    "ctd_ts_data['Density'] = density_ts_data\n",
    "ctd_ts_data"
   ]
  },
  {
   "cell_type": "code",
   "execution_count": 31,
   "id": "47292c83",
   "metadata": {},
   "outputs": [
    {
     "data": {
      "text/plain": [
       "27.222598050942906"
      ]
     },
     "execution_count": 31,
     "metadata": {},
     "output_type": "execute_result"
    }
   ],
   "source": [
    "#creating a reference density at 10m\n",
    "density_mld_reference_10m = density_ts_data[9]\n",
    "density_mld_reference_10m"
   ]
  },
  {
   "cell_type": "markdown",
   "id": "d329480f",
   "metadata": {},
   "source": [
    "mixed_layer_depth_dens = density_ts_data-density_mld_reference_10m"
   ]
  },
  {
   "cell_type": "code",
   "execution_count": 34,
   "id": "c99481ca",
   "metadata": {},
   "outputs": [
    {
     "data": {
      "text/plain": [
       "array([-0.04564179, -0.03812558, -0.03302779, ...,  6.93936228,\n",
       "        6.94068411,  6.94711278])"
      ]
     },
     "execution_count": 34,
     "metadata": {},
     "output_type": "execute_result"
    }
   ],
   "source": [
    "mixed_layer_depth_dens = density_ts_data-density_mld_reference_10m\n",
    "mixed_layer_depth_dens"
   ]
  },
  {
   "cell_type": "code",
   "execution_count": 37,
   "id": "30ce80c5",
   "metadata": {},
   "outputs": [
    {
     "data": {
      "text/plain": [
       "array([ True,  True,  True, ..., False, False, False])"
      ]
     },
     "execution_count": 37,
     "metadata": {},
     "output_type": "execute_result"
    }
   ],
   "source": [
    "a = mixed_layer_depth_dens<0.031\n",
    "a"
   ]
  },
  {
   "cell_type": "code",
   "execution_count": 43,
   "id": "947bb8cd",
   "metadata": {},
   "outputs": [
    {
     "data": {
      "text/plain": [
       "(array([12758], dtype=int64),)"
      ]
     },
     "execution_count": 43,
     "metadata": {},
     "output_type": "execute_result"
    }
   ],
   "source": [
    "max_value = np.max(mixed_layer_depth_dens)\n",
    "index_max_value = np.where(mixed_layer_depth_dens==max_value)\n",
    "max_value\n",
    "index_max_value"
   ]
  },
  {
   "cell_type": "code",
   "execution_count": 45,
   "id": "a34ab2b6",
   "metadata": {},
   "outputs": [
    {
     "data": {
      "text/plain": [
       "4179.438"
      ]
     },
     "execution_count": 45,
     "metadata": {},
     "output_type": "execute_result"
    }
   ],
   "source": [
    "ctd_ts_data.depth[12758]\n",
    "\n"
   ]
  }
 ],
 "metadata": {
  "kernelspec": {
   "display_name": "Python 3 (ipykernel)",
   "language": "python",
   "name": "python3"
  },
  "language_info": {
   "codemirror_mode": {
    "name": "ipython",
    "version": 3
   },
   "file_extension": ".py",
   "mimetype": "text/x-python",
   "name": "python",
   "nbconvert_exporter": "python",
   "pygments_lexer": "ipython3",
   "version": "3.9.7"
  }
 },
 "nbformat": 4,
 "nbformat_minor": 5
}
